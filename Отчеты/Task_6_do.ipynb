{
 "cells": [
  {
   "cell_type": "code",
   "execution_count": null,
   "metadata": {},
   "outputs": [],
   "source": []
  },
  {
   "cell_type": "code",
   "execution_count": 281,
   "metadata": {},
   "outputs": [],
   "source": [
    "import numpy as np\n",
    "import pandas as pd\n",
    "import matplotlib\n",
    "import scipy\n",
    "import matplotlib.pyplot as plt"
   ]
  },
  {
   "cell_type": "code",
   "execution_count": 282,
   "metadata": {},
   "outputs": [
    {
     "data": {
      "text/html": [
       "<div>\n",
       "<style scoped>\n",
       "    .dataframe tbody tr th:only-of-type {\n",
       "        vertical-align: middle;\n",
       "    }\n",
       "\n",
       "    .dataframe tbody tr th {\n",
       "        vertical-align: top;\n",
       "    }\n",
       "\n",
       "    .dataframe thead th {\n",
       "        text-align: right;\n",
       "    }\n",
       "</style>\n",
       "<table border=\"1\" class=\"dataframe\">\n",
       "  <thead>\n",
       "    <tr style=\"text-align: right;\">\n",
       "      <th></th>\n",
       "      <th>day</th>\n",
       "      <th>Y</th>\n",
       "      <th>X</th>\n",
       "    </tr>\n",
       "  </thead>\n",
       "  <tbody>\n",
       "    <tr>\n",
       "      <th>9</th>\n",
       "      <td>10</td>\n",
       "      <td>29.3</td>\n",
       "      <td>26.0</td>\n",
       "    </tr>\n",
       "    <tr>\n",
       "      <th>0</th>\n",
       "      <td>1</td>\n",
       "      <td>28.3</td>\n",
       "      <td>26.1</td>\n",
       "    </tr>\n",
       "    <tr>\n",
       "      <th>3</th>\n",
       "      <td>4</td>\n",
       "      <td>30.5</td>\n",
       "      <td>26.2</td>\n",
       "    </tr>\n",
       "    <tr>\n",
       "      <th>2</th>\n",
       "      <td>3</td>\n",
       "      <td>28.5</td>\n",
       "      <td>26.3</td>\n",
       "    </tr>\n",
       "    <tr>\n",
       "      <th>29</th>\n",
       "      <td>30</td>\n",
       "      <td>29.5</td>\n",
       "      <td>26.4</td>\n",
       "    </tr>\n",
       "  </tbody>\n",
       "</table>\n",
       "</div>"
      ],
      "text/plain": [
       "    day     Y     X\n",
       "9    10  29.3  26.0\n",
       "0     1  28.3  26.1\n",
       "3     4  30.5  26.2\n",
       "2     3  28.5  26.3\n",
       "29   30  29.5  26.4"
      ]
     },
     "execution_count": 282,
     "metadata": {},
     "output_type": "execute_result"
    }
   ],
   "source": [
    "df = pd.read_excel('data_6.xlsx')\n",
    "df.columns = ['day','Y','X']\n",
    "df.sort_values(by=['X'], inplace = True)\n",
    "df.head()"
   ]
  },
  {
   "cell_type": "code",
   "execution_count": 283,
   "metadata": {},
   "outputs": [
    {
     "data": {
      "text/plain": [
       "LinregressResult(slope=1.054004589068256, intercept=1.150025588969978, rvalue=0.8986713878947973, pvalue=1.570516795812702e-11, stderr=0.09721953093439341)"
      ]
     },
     "execution_count": 283,
     "metadata": {},
     "output_type": "execute_result"
    }
   ],
   "source": [
    "slope, intercept, r_value, p_value, std_err = scipy.stats.linregress(df['X'], df['Y'])\n",
    "scipy.stats.linregress(df['X'], df['Y'])\n",
    "\n",
    "# slope - наклонный\n",
    "# intercept - Пересечение линии регрессии. \n",
    "# r_value - Коэффициент корреляции.\n",
    "# p_value -Двустороннее p-значение для проверки гипотезы, нулевая гипотеза которой заключается в том, что наклон равен нулю, с использованием критерия Вальда с t-распределением статистики критерия.\n",
    "# std_err - Стандартная ошибка расчетного градиента."
   ]
  },
  {
   "cell_type": "code",
   "execution_count": 284,
   "metadata": {},
   "outputs": [
    {
     "data": {
      "text/plain": [
       "(0.8986713878947972, 1.5705167958127257e-11)"
      ]
     },
     "execution_count": 284,
     "metadata": {},
     "output_type": "execute_result"
    }
   ],
   "source": [
    "# кореляция способ 1\n",
    "scipy.stats.pearsonr(df['X'], df['Y'])"
   ]
  },
  {
   "cell_type": "code",
   "execution_count": 285,
   "metadata": {},
   "outputs": [
    {
     "data": {
      "text/plain": [
       "0.8986713878947973"
      ]
     },
     "execution_count": 285,
     "metadata": {},
     "output_type": "execute_result"
    }
   ],
   "source": [
    "# кореляция способ 2\n",
    "np.corrcoef(df['X'], df['Y'])[0, 1]"
   ]
  },
  {
   "cell_type": "code",
   "execution_count": 286,
   "metadata": {},
   "outputs": [
    {
     "data": {
      "text/plain": [
       "0.8986713878947973"
      ]
     },
     "execution_count": 286,
     "metadata": {},
     "output_type": "execute_result"
    }
   ],
   "source": [
    "# кореляция способ 2\n",
    "np.corrcoef(df['Y'], df['X'])[0, 1]"
   ]
  },
  {
   "cell_type": "code",
   "execution_count": 287,
   "metadata": {},
   "outputs": [
    {
     "data": {
      "text/html": [
       "<div>\n",
       "<style scoped>\n",
       "    .dataframe tbody tr th:only-of-type {\n",
       "        vertical-align: middle;\n",
       "    }\n",
       "\n",
       "    .dataframe tbody tr th {\n",
       "        vertical-align: top;\n",
       "    }\n",
       "\n",
       "    .dataframe thead th {\n",
       "        text-align: right;\n",
       "    }\n",
       "</style>\n",
       "<table border=\"1\" class=\"dataframe\">\n",
       "  <thead>\n",
       "    <tr style=\"text-align: right;\">\n",
       "      <th></th>\n",
       "      <th>day</th>\n",
       "      <th>Y</th>\n",
       "      <th>X</th>\n",
       "    </tr>\n",
       "  </thead>\n",
       "  <tbody>\n",
       "    <tr>\n",
       "      <th>9</th>\n",
       "      <td>10</td>\n",
       "      <td>29.3</td>\n",
       "      <td>26.0</td>\n",
       "    </tr>\n",
       "    <tr>\n",
       "      <th>0</th>\n",
       "      <td>1</td>\n",
       "      <td>28.3</td>\n",
       "      <td>26.1</td>\n",
       "    </tr>\n",
       "    <tr>\n",
       "      <th>3</th>\n",
       "      <td>4</td>\n",
       "      <td>30.5</td>\n",
       "      <td>26.2</td>\n",
       "    </tr>\n",
       "    <tr>\n",
       "      <th>2</th>\n",
       "      <td>3</td>\n",
       "      <td>28.5</td>\n",
       "      <td>26.3</td>\n",
       "    </tr>\n",
       "    <tr>\n",
       "      <th>29</th>\n",
       "      <td>30</td>\n",
       "      <td>29.5</td>\n",
       "      <td>26.4</td>\n",
       "    </tr>\n",
       "  </tbody>\n",
       "</table>\n",
       "</div>"
      ],
      "text/plain": [
       "    day     Y     X\n",
       "9    10  29.3  26.0\n",
       "0     1  28.3  26.1\n",
       "3     4  30.5  26.2\n",
       "2     3  28.5  26.3\n",
       "29   30  29.5  26.4"
      ]
     },
     "execution_count": 287,
     "metadata": {},
     "output_type": "execute_result"
    }
   ],
   "source": [
    "df.head()"
   ]
  },
  {
   "cell_type": "code",
   "execution_count": 288,
   "metadata": {},
   "outputs": [
    {
     "name": "stdout",
     "output_type": "stream",
     "text": [
      "slope: 1.054005    intercept: 1.150026\n",
      "R-squared: 0.807610\n"
     ]
    },
    {
     "data": {
      "image/png": "[encoded data removed]",
      "text/plain": [
       "<Figure size 432x288 with 1 Axes>"
      ]
     },
     "metadata": {
      "needs_background": "light"
     },
     "output_type": "display_data"
    }
   ],
   "source": [
    "from scipy import stats\n",
    "\n",
    "np.random.seed(12345678)\n",
    "x = np.array(df['X'].to_list())\n",
    "y = np.array(df['Y'].to_list())\n",
    "\n",
    "slope, intercept, r_value, p_value, std_err = stats.linregress(x, y)\n",
    "print(\"slope: %f    intercept: %f\" % (slope, intercept))\n",
    "print(\"R-squared: %f\" % r_value**2)\n",
    "\n",
    "plt.plot(x, y, 'o', label='original data')\n",
    "plt.plot(x, intercept + slope*x, 'r', label='fitted line')\n",
    "plt.legend()\n",
    "plt.show()"
   ]
  },
  {
   "cell_type": "code",
   "execution_count": 276,
   "metadata": {
    "scrolled": false
   },
   "outputs": [
    {
     "name": "stdout",
     "output_type": "stream",
     "text": [
      "slope: 0.766230    intercept: 4.474305\n",
      "R-squared: 0.807610\n"
     ]
    },
    {
     "data": {
      "image/png": "[encoded data removed]",
      "text/plain": [
       "<Figure size 432x288 with 1 Axes>"
      ]
     },
     "metadata": {
      "needs_background": "light"
     },
     "output_type": "display_data"
    }
   ],
   "source": [
    "# тоже самое но для Y(X)\n",
    "\n",
    "x2 = np.array(df['Y'].to_list())\n",
    "y2 = np.array(df['X'].to_list())\n",
    "\n",
    "slope2, intercept2, r_value2, p_value2, std_err2 = stats.linregress(x2, y2)\n",
    "print(\"slope: %f    intercept: %f\" % (slope2, intercept2))\n",
    "print(\"R-squared: %f\" % r_value2**2)\n",
    "\n",
    "plt.plot(x2, y2, 'o', label='original data')\n",
    "plt.plot(x2, intercept2 + slope2*x2, 'r', label='fitted line')\n",
    "plt.legend()\n",
    "plt.show()"
   ]
  },
  {
   "cell_type": "code",
   "execution_count": 263,
   "metadata": {},
   "outputs": [
    {
     "name": "stdout",
     "output_type": "stream",
     "text": [
      "F_imper= 117.538\n"
     ]
    }
   ],
   "source": [
    "# тест фишера попытка\n",
    "m = 1\n",
    "n = df.shape[0]\n",
    "F_imper = r_value**2/(1-r_value**2)*(n-m-1)/m\n",
    "\n",
    "# print('F_imper=', round(F_imper,3),'\\nF_crit=', round(F_crit,3))\n",
    "print('F_imper=', round(F_imper,3))"
   ]
  },
  {
   "cell_type": "code",
   "execution_count": 264,
   "metadata": {
    "scrolled": true
   },
   "outputs": [
    {
     "name": "stdout",
     "output_type": "stream",
     "text": [
      "f1 = 1 , f2 = 28\n",
      "0.33806526241332535 0.2500683188662149 4.195971818557765\n"
     ]
    }
   ],
   "source": [
    "m = 1\n",
    "n = df.shape[0]\n",
    "\n",
    "alpha = 0.95\n",
    "f1 = m\n",
    "f2 = n - m - 1\n",
    "print('f1 =',f1,',','f2 =',f2)\n",
    "\n",
    "# F_crit1 = scipy.stats.f.sf(alpha, f1, f2)\n",
    "# F_crit2 = scipy.stats.f.pdf(alpha, f1, f2)\n",
    "# F_crit3 = scipy.stats.f.cdf(alpha, f1, f2)\n",
    "F_crit3 = scipy.stats.f.ppf(alpha, f1, f2)\n",
    "\n",
    "\n",
    "print(F_crit1,F_crit2,F_crit3)"
   ]
  },
  {
   "cell_type": "code",
   "execution_count": 265,
   "metadata": {},
   "outputs": [
    {
     "ename": "NameError",
     "evalue": "name 'chi2' is not defined",
     "output_type": "error",
     "traceback": [
      "\u001b[1;31m---------------------------------------------------------------------------\u001b[0m",
      "\u001b[1;31mNameError\u001b[0m                                 Traceback (most recent call last)",
      "\u001b[1;32m<ipython-input-265-0c973cd4a27e>\u001b[0m in \u001b[0;36m<module>\u001b[1;34m\u001b[0m\n\u001b[0;32m      5\u001b[0m \u001b[1;31m# retrieve value <= probability\u001b[0m\u001b[1;33m\u001b[0m\u001b[1;33m\u001b[0m\u001b[1;33m\u001b[0m\u001b[0m\n\u001b[0;32m      6\u001b[0m \u001b[1;33m\u001b[0m\u001b[0m\n\u001b[1;32m----> 7\u001b[1;33m \u001b[0mvalue\u001b[0m \u001b[1;33m=\u001b[0m \u001b[0mchi2\u001b[0m\u001b[1;33m.\u001b[0m\u001b[0mppf\u001b[0m\u001b[1;33m(\u001b[0m\u001b[0malpha\u001b[0m\u001b[1;33m,\u001b[0m \u001b[0mf\u001b[0m\u001b[1;33m)\u001b[0m\u001b[1;33m\u001b[0m\u001b[1;33m\u001b[0m\u001b[0m\n\u001b[0m\u001b[0;32m      8\u001b[0m \u001b[0mprint\u001b[0m\u001b[1;33m(\u001b[0m\u001b[0mvalue\u001b[0m\u001b[1;33m)\u001b[0m\u001b[1;33m\u001b[0m\u001b[1;33m\u001b[0m\u001b[0m\n\u001b[0;32m      9\u001b[0m \u001b[1;31m# confirm with cdf\u001b[0m\u001b[1;33m\u001b[0m\u001b[1;33m\u001b[0m\u001b[1;33m\u001b[0m\u001b[0m\n",
      "\u001b[1;31mNameError\u001b[0m: name 'chi2' is not defined"
     ]
    }
   ],
   "source": [
    "scipy.stats.chi2\n",
    "\n",
    "alpha = 0.95\n",
    "f = 10\n",
    "# retrieve value <= probability\n",
    "\n",
    "value = chi2.ppf(alpha, f)\n",
    "print(value)\n",
    "# confirm with cdf\n",
    "p = chi2.cdf(value, df)\n",
    "print(p)"
   ]
  },
  {
   "cell_type": "code",
   "execution_count": 302,
   "metadata": {
    "scrolled": false
   },
   "outputs": [
    {
     "name": "stdout",
     "output_type": "stream",
     "text": [
      "a = 1.15 b = 1.054 n = 30\n",
      "x_mid = 28.0 y_mid = 30.49\n",
      "S2 = 0.93 S = 0.964 Sx = 3.391 S_beta = 0.053 S_alpha = 1.48\n",
      "t_qvatil = 2.048\n",
      "1.054 > 0.108 то коэфицент b значимый\n",
      "1.15 > 3.031 то коэфицент a значимый\n",
      "Двухсторонний доверительный интервал 0.946 <= Betta <= 1.162\n",
      "Двухсторонний доверительный интервал -1.881 <= Alpha <= 4.181\n"
     ]
    }
   ],
   "source": [
    "# оценка коэфицентво a и b\n",
    "a = intercept\n",
    "b = slope\n",
    "n = df.shape[0]\n",
    "print('a =',round(a,3),'b =',round(b,3),'n =',n)\n",
    "\n",
    "# теор расчет\n",
    "x_mid = 1/n*df['X'].sum()\n",
    "y_mid = 1/n*df['Y'].sum()\n",
    "print('x_mid =', round(x_mid) ,'y_mid =',round(y_mid,3) )\n",
    "\n",
    "S2 = 1/(n-2)*((df['Y']-a-b*df['X'])**2).sum()\n",
    "S = np.sqrt(S2)\n",
    "Sx = 1/(n-1)*((df['X']-x_mid)**2).sum()\n",
    "S_beta = S/(Sx*np.sqrt(n-1))\n",
    "S_alpha = S*np.sqrt(1/n + x_mid**2/((n-1)*Sx**2))\n",
    "print('S2 =', round(S2,3) ,'S =',round(S,3) ,'Sx =',round(Sx,3) ,'S_beta =',round(S_beta,3) ,'S_alpha =',round(S_alpha,3) )\n",
    "\n",
    "\n",
    "\n",
    "# теор расчет квантиля т распределения \n",
    "alpha_prived = (0.95+1)/2\n",
    "f = n - 2\n",
    "t_qvatil = round(scipy.stats.t.ppf(alpha_prived, f),3)\n",
    "print('t_qvatil =', round(t_qvatil,3))\n",
    "\n",
    "# сравним\n",
    "print(round(b,3), '>', round(t_qvatil*S_beta,3), 'то коэфицент b значимый')\n",
    "print(round(a,3), '>', round(t_qvatil*S_alpha,3), 'то коэфицент a значимый')\n",
    "print('Двухсторонний доверительный интервал', round(b-t_qvatil*S_beta,3), '<= Betta <=', round(b+t_qvatil*S_beta,3))\n",
    "print('Двухсторонний доверительный интервал', round(a-t_qvatil*S_alpha,3), '<= Alpha <=', round(a+t_qvatil*S_alpha,3))\n"
   ]
  },
  {
   "cell_type": "code",
   "execution_count": 293,
   "metadata": {},
   "outputs": [
    {
     "data": {
      "text/plain": [
       "0.964139703358748"
      ]
     },
     "execution_count": 293,
     "metadata": {},
     "output_type": "execute_result"
    }
   ],
   "source": []
  },
  {
   "cell_type": "code",
   "execution_count": 267,
   "metadata": {},
   "outputs": [
    {
     "name": "stdout",
     "output_type": "stream",
     "text": [
      "3.80206023798525e-09\n",
      "3.3913678160919543\n"
     ]
    }
   ],
   "source": [
    "Sb = S/(Sx*np.sqrt(29))\n",
    "print(Sb)\n",
    "S_beta = S/(Sx*np.sqrt(n-1))\n",
    "\n",
    "Sx = 1/(n-1)*((df['X']-x_mid)**2).sum()\n",
    "print(Sx)"
   ]
  },
  {
   "cell_type": "code",
   "execution_count": null,
   "metadata": {},
   "outputs": [],
   "source": []
  },
  {
   "cell_type": "code",
   "execution_count": null,
   "metadata": {},
   "outputs": [],
   "source": []
  },
  {
   "cell_type": "code",
   "execution_count": null,
   "metadata": {},
   "outputs": [],
   "source": []
  },
  {
   "cell_type": "code",
   "execution_count": null,
   "metadata": {},
   "outputs": [],
   "source": []
  }
 ],
 "metadata": {
  "kernelspec": {
   "display_name": "Python 3",
   "language": "python",
   "name": "python3"
  },
  "language_info": {
   "codemirror_mode": {
    "name": "ipython",
    "version": 3
   },
   "file_extension": ".py",
   "mimetype": "text/x-python",
   "name": "python",
   "nbconvert_exporter": "python",
   "pygments_lexer": "ipython3",
   "version": "3.7.6"
  }
 },
 "nbformat": 4,
 "nbformat_minor": 1
}

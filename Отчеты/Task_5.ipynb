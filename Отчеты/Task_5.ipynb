{
 "cells": [
  {
   "cell_type": "markdown",
   "metadata": {},
   "source": [
    "##Задание 5##\n",
    "\n",
    "Борисов Д.А.\n",
    "\n",
    "Вариант 1"
   ]
  },
  {
   "cell_type": "code",
   "execution_count": 1,
   "metadata": {},
   "outputs": [],
   "source": [
    "import numpy as np\n",
    "import pandas as pd\n",
    "import matplotlib"
   ]
  },
  {
   "cell_type": "code",
   "execution_count": 2,
   "metadata": {},
   "outputs": [
    {
     "data": {
      "text/html": [
       "<div>\n",
       "<style scoped>\n",
       "    .dataframe tbody tr th:only-of-type {\n",
       "        vertical-align: middle;\n",
       "    }\n",
       "\n",
       "    .dataframe tbody tr th {\n",
       "        vertical-align: top;\n",
       "    }\n",
       "\n",
       "    .dataframe thead th {\n",
       "        text-align: right;\n",
       "    }\n",
       "</style>\n",
       "<table border=\"1\" class=\"dataframe\">\n",
       "  <thead>\n",
       "    <tr style=\"text-align: right;\">\n",
       "      <th></th>\n",
       "      <th>1</th>\n",
       "      <th>2</th>\n",
       "      <th>3</th>\n",
       "      <th>4</th>\n",
       "      <th>5</th>\n",
       "      <th>6</th>\n",
       "      <th>7</th>\n",
       "    </tr>\n",
       "  </thead>\n",
       "  <tbody>\n",
       "    <tr>\n",
       "      <th>0</th>\n",
       "      <td>40</td>\n",
       "      <td>25</td>\n",
       "      <td>45</td>\n",
       "      <td>30</td>\n",
       "      <td>35</td>\n",
       "      <td>40</td>\n",
       "      <td>60</td>\n",
       "    </tr>\n",
       "    <tr>\n",
       "      <th>1</th>\n",
       "      <td>80</td>\n",
       "      <td>35</td>\n",
       "      <td>70</td>\n",
       "      <td>40</td>\n",
       "      <td>45</td>\n",
       "      <td>30</td>\n",
       "      <td>50</td>\n",
       "    </tr>\n",
       "    <tr>\n",
       "      <th>2</th>\n",
       "      <td>55</td>\n",
       "      <td>70</td>\n",
       "      <td>60</td>\n",
       "      <td>70</td>\n",
       "      <td>65</td>\n",
       "      <td>45</td>\n",
       "      <td>80</td>\n",
       "    </tr>\n",
       "    <tr>\n",
       "      <th>3</th>\n",
       "      <td>60</td>\n",
       "      <td>110</td>\n",
       "      <td>90</td>\n",
       "      <td>70</td>\n",
       "      <td>80</td>\n",
       "      <td>75</td>\n",
       "      <td>70</td>\n",
       "    </tr>\n",
       "  </tbody>\n",
       "</table>\n",
       "</div>"
      ],
      "text/plain": [
       "    1    2   3   4   5   6   7\n",
       "0  40   25  45  30  35  40  60\n",
       "1  80   35  70  40  45  30  50\n",
       "2  55   70  60  70  65  45  80\n",
       "3  60  110  90  70  80  75  70"
      ]
     },
     "execution_count": 2,
     "metadata": {},
     "output_type": "execute_result"
    }
   ],
   "source": [
    "df = pd.read_excel('data_5.xlsx', header=0)\n",
    "df.head()"
   ]
  },
  {
   "cell_type": "code",
   "execution_count": 3,
   "metadata": {
    "scrolled": true
   },
   "outputs": [],
   "source": [
    "# k - число столбцов  df.shape[1]\n",
    "# n - число строк df.shape[0]\n",
    "k = df.shape[1]\n",
    "n = df.shape[0]"
   ]
  },
  {
   "cell_type": "code",
   "execution_count": 10,
   "metadata": {},
   "outputs": [
    {
     "name": "stdout",
     "output_type": "stream",
     "text": [
      "Q1 = 105825\n"
     ]
    },
    {
     "data": {
      "text/html": [
       "<div>\n",
       "<style scoped>\n",
       "    .dataframe tbody tr th:only-of-type {\n",
       "        vertical-align: middle;\n",
       "    }\n",
       "\n",
       "    .dataframe tbody tr th {\n",
       "        vertical-align: top;\n",
       "    }\n",
       "\n",
       "    .dataframe thead th {\n",
       "        text-align: right;\n",
       "    }\n",
       "</style>\n",
       "<table border=\"1\" class=\"dataframe\">\n",
       "  <thead>\n",
       "    <tr style=\"text-align: right;\">\n",
       "      <th></th>\n",
       "      <th>1</th>\n",
       "      <th>2</th>\n",
       "      <th>3</th>\n",
       "      <th>4</th>\n",
       "      <th>5</th>\n",
       "      <th>6</th>\n",
       "      <th>7</th>\n",
       "    </tr>\n",
       "  </thead>\n",
       "  <tbody>\n",
       "    <tr>\n",
       "      <th>0</th>\n",
       "      <td>1600</td>\n",
       "      <td>625</td>\n",
       "      <td>2025</td>\n",
       "      <td>900</td>\n",
       "      <td>1225</td>\n",
       "      <td>1600</td>\n",
       "      <td>3600</td>\n",
       "    </tr>\n",
       "    <tr>\n",
       "      <th>1</th>\n",
       "      <td>6400</td>\n",
       "      <td>1225</td>\n",
       "      <td>4900</td>\n",
       "      <td>1600</td>\n",
       "      <td>2025</td>\n",
       "      <td>900</td>\n",
       "      <td>2500</td>\n",
       "    </tr>\n",
       "    <tr>\n",
       "      <th>2</th>\n",
       "      <td>3025</td>\n",
       "      <td>4900</td>\n",
       "      <td>3600</td>\n",
       "      <td>4900</td>\n",
       "      <td>4225</td>\n",
       "      <td>2025</td>\n",
       "      <td>6400</td>\n",
       "    </tr>\n",
       "    <tr>\n",
       "      <th>3</th>\n",
       "      <td>3600</td>\n",
       "      <td>12100</td>\n",
       "      <td>8100</td>\n",
       "      <td>4900</td>\n",
       "      <td>6400</td>\n",
       "      <td>5625</td>\n",
       "      <td>4900</td>\n",
       "    </tr>\n",
       "  </tbody>\n",
       "</table>\n",
       "</div>"
      ],
      "text/plain": [
       "      1      2     3     4     5     6     7\n",
       "0  1600    625  2025   900  1225  1600  3600\n",
       "1  6400   1225  4900  1600  2025   900  2500\n",
       "2  3025   4900  3600  4900  4225  2025  6400\n",
       "3  3600  12100  8100  4900  6400  5625  4900"
      ]
     },
     "execution_count": 10,
     "metadata": {},
     "output_type": "execute_result"
    }
   ],
   "source": [
    "df2 = pd.DataFrame()\n",
    "df2 = df**2\n",
    "# сумма квдаратов всех х\n",
    "Q1 = df2.sum().sum()\n",
    "print('Q1 =',Q1)\n",
    "df2.head()"
   ]
  },
  {
   "cell_type": "code",
   "execution_count": 18,
   "metadata": {},
   "outputs": [
    {
     "name": "stdout",
     "output_type": "stream",
     "text": [
      "Q2 = 95368.75\n"
     ]
    }
   ],
   "source": [
    "# cумма по столбца\n",
    "df_sum_column = df.sum()\n",
    "df_2sum_column = df_sum_column**2\n",
    "df_sum_column.head()\n",
    "df_2sum_column.head()\n",
    "\n",
    "# Сумма квадратов суммурных столбцов деленных на всего строк\n",
    "Q2 = df_2sum_column.sum()/n\n",
    "print('Q2 =', round(Q2,3))"
   ]
  },
  {
   "cell_type": "code",
   "execution_count": 19,
   "metadata": {},
   "outputs": [
    {
     "name": "stdout",
     "output_type": "stream",
     "text": [
      "Q3 = 94308.036\n"
     ]
    }
   ],
   "source": [
    "# квадрат суммы средних значений деленых на k и n\n",
    "Q3 = (df_sum_column.sum()**2)/(n*k)\n",
    "print('Q3 =',round(Q3,3))"
   ]
  },
  {
   "cell_type": "code",
   "execution_count": 21,
   "metadata": {},
   "outputs": [
    {
     "name": "stdout",
     "output_type": "stream",
     "text": [
      "S02 = 497.917 SA2 = 176.786\n",
      "F_imper = 0.355\n"
     ]
    }
   ],
   "source": [
    "S02 = (Q1-Q2)/(k*(n-1))\n",
    "SA2 = (Q2-Q3)/(k-1)\n",
    "\n",
    "print('S02 =', round(S02,3),'SA2 =', round(SA2,3))\n",
    "F_imper = SA2/S02\n",
    "print('F_imper =', round(F_imper,3))"
   ]
  },
  {
   "cell_type": "code",
   "execution_count": 22,
   "metadata": {},
   "outputs": [
    {
     "name": "stdout",
     "output_type": "stream",
     "text": [
      "F_imper= 0.355 \n",
      "F_crit= 0.481\n"
     ]
    }
   ],
   "source": [
    "# критические значения\n",
    "from scipy.stats import f\n",
    "alpha = 0.95\n",
    "F_crit = f.sf(alpha, k-1, k*(n-1))\n",
    "\n",
    "print('F_imper=', round(F_imper,3),'\\nF_crit=', round(F_crit,3))"
   ]
  },
  {
   "cell_type": "markdown",
   "metadata": {},
   "source": [
    "Вывод: так как F_импер меньше F_крити влияние фактора признается незначимым.\n",
    "Выборку считаем однородной"
   ]
  },
  {
   "cell_type": "code",
   "execution_count": 23,
   "metadata": {},
   "outputs": [
    {
     "name": "stdout",
     "output_type": "stream",
     "text": [
      "дисперсия однороднйо выборки =  426.554\n"
     ]
    }
   ],
   "source": [
    "S2_ = (Q1-Q3)/(k*n-1)\n",
    "print('дисперсия однороднйо выборки = ',  round(S2_,3))"
   ]
  },
  {
   "cell_type": "code",
   "execution_count": null,
   "metadata": {},
   "outputs": [],
   "source": []
  }
 ],
 "metadata": {
  "kernelspec": {
   "display_name": "Python 3",
   "language": "python",
   "name": "python3"
  },
  "language_info": {
   "codemirror_mode": {
    "name": "ipython",
    "version": 3
   },
   "file_extension": ".py",
   "mimetype": "text/x-python",
   "name": "python",
   "nbconvert_exporter": "python",
   "pygments_lexer": "ipython3",
   "version": "3.8.3"
  }
 },
 "nbformat": 4,
 "nbformat_minor": 1
}

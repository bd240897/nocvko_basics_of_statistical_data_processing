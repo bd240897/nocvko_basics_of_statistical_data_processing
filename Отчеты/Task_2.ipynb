{
 "cells": [
  {
   "cell_type": "markdown",
   "metadata": {},
   "source": [
    "##Задание 2##\n",
    "\n",
    "Борисов Д.А.\n",
    "\n",
    "Вариант 1"
   ]
  },
  {
   "cell_type": "code",
   "execution_count": 73,
   "metadata": {},
   "outputs": [],
   "source": [
    "import pandas as pd\n",
    "import numpy as np\n",
    "import matplotlib.pyplot as plt \n",
    "import seaborn as sns\n",
    "import scipy"
   ]
  },
  {
   "cell_type": "code",
   "execution_count": 75,
   "metadata": {},
   "outputs": [
    {
     "data": {
      "text/html": [
       "<div>\n",
       "<style scoped>\n",
       "    .dataframe tbody tr th:only-of-type {\n",
       "        vertical-align: middle;\n",
       "    }\n",
       "\n",
       "    .dataframe tbody tr th {\n",
       "        vertical-align: top;\n",
       "    }\n",
       "\n",
       "    .dataframe thead th {\n",
       "        text-align: right;\n",
       "    }\n",
       "</style>\n",
       "<table border=\"1\" class=\"dataframe\">\n",
       "  <thead>\n",
       "    <tr style=\"text-align: right;\">\n",
       "      <th></th>\n",
       "      <th>xi</th>\n",
       "    </tr>\n",
       "  </thead>\n",
       "  <tbody>\n",
       "    <tr>\n",
       "      <th>0</th>\n",
       "      <td>4.032661</td>\n",
       "    </tr>\n",
       "    <tr>\n",
       "      <th>1</th>\n",
       "      <td>7.485303</td>\n",
       "    </tr>\n",
       "    <tr>\n",
       "      <th>2</th>\n",
       "      <td>5.961668</td>\n",
       "    </tr>\n",
       "    <tr>\n",
       "      <th>3</th>\n",
       "      <td>1.508031</td>\n",
       "    </tr>\n",
       "    <tr>\n",
       "      <th>4</th>\n",
       "      <td>4.169277</td>\n",
       "    </tr>\n",
       "  </tbody>\n",
       "</table>\n",
       "</div>"
      ],
      "text/plain": [
       "         xi\n",
       "0  4.032661\n",
       "1  7.485303\n",
       "2  5.961668\n",
       "3  1.508031\n",
       "4  4.169277"
      ]
     },
     "execution_count": 75,
     "metadata": {},
     "output_type": "execute_result"
    }
   ],
   "source": [
    "df_clear = pd.DataFrame()\n",
    "df = pd.read_excel('Варианты заданий по темам 2-3.xlsx')\n",
    "df_clear['xi'] = df['Вариант 1'].copy()\n",
    "df_clear.head()"
   ]
  },
  {
   "cell_type": "code",
   "execution_count": 76,
   "metadata": {},
   "outputs": [
    {
     "name": "stdout",
     "output_type": "stream",
     "text": [
      "Мат ожидание = 4.329194353515196,\n",
      "Размах = 10.884832590818405,\n",
      "Cреднее = 4.766745804663515,\n",
      "Медиана = 4.855659780223505,\n",
      "Мода = 4.0326614351943135\n",
      "Димперсия = 4.37292358940929,\n",
      "С.К.О. = 2.0911536503588852,\n",
      "Коэффициент вариации = 0.4386962796113479,\n",
      "Коэффициенты асимметрии = 0.1787667671447735,\n",
      "Эксцесса = 3.3751810908917035,\n",
      "max = 10.575129762291908, ,min = -0.3097028285264969\n"
     ]
    }
   ],
   "source": [
    "import statistics\n",
    "# мат ожидание\n",
    "M = np.var(df_clear['xi'])\n",
    "# размах, \n",
    "raz = np.ptp(df_clear['xi'])\n",
    "# среднее,\n",
    "m = statistics.mean(df_clear['xi'])\n",
    "# моду \n",
    "mo = statistics.mode(df_clear['xi'])\n",
    "# медиану, \n",
    "me = statistics.median(df_clear['xi'])\n",
    "# дисперсию, \n",
    "D = statistics.variance(df_clear['xi'])\n",
    "# С.К.О., \n",
    "SKO = statistics.stdev(df_clear['xi'])\n",
    "# коэффициент вариации,\n",
    "Kv = df_clear['xi'].std()/df_clear['xi'].mean()\n",
    "# коэффициенты асимметрии, \n",
    "As = scipy.stats.skew(df_clear['xi'])\n",
    "# эксцесса\n",
    "Ex = scipy.stats.kurtosis(df_clear['xi'], fisher = False)\n",
    "\n",
    "print('Мат ожидание = {M},'.format(M = M))\n",
    "print('Размах = {raz},\\nCреднее = {m},\\nМедиана = {me},\\nМода = {mo}'.format(raz = raz,m=m,me=me,mo=mo))\n",
    "print('Димперсия = {D},\\nС.К.О. = {SKO},\\nКоэффициент вариации = {Kv},\\nКоэффициенты асимметрии = {As},\\nЭксцесса = {Ex},'.format(D = D,SKO=SKO,Kv=Kv,As=As,Ex=Ex))\n",
    "print('max = {max}, ,min = {min}'.format(max = max(df_clear['xi']), min = min(df_clear['xi'])))"
   ]
  },
  {
   "cell_type": "code",
   "execution_count": 44,
   "metadata": {},
   "outputs": [
    {
     "data": {
      "text/plain": [
       "DescribeResult(nobs=100, minmax=(-0.3097028285264969, 10.575129762291908), mean=4.766745804663515, variance=4.37292358940929, skewness=0.1787667671447735, kurtosis=0.3751810908917035)"
      ]
     },
     "execution_count": 44,
     "metadata": {},
     "output_type": "execute_result"
    }
   ],
   "source": [
    "# Тоже самое но экспресс анализом\n",
    "scipy.stats.describe(df_clear['xi'])"
   ]
  },
  {
   "cell_type": "code",
   "execution_count": 45,
   "metadata": {},
   "outputs": [
    {
     "data": {
      "text/plain": [
       "[<matplotlib.lines.Line2D at 0x15fd2628040>]"
      ]
     },
     "execution_count": 45,
     "metadata": {},
     "output_type": "execute_result"
    },
    {
     "data": {
      "image/png": "[encoded data removed]",
      "text/plain": [
       "<Figure size 432x288 with 1 Axes>"
      ]
     },
     "metadata": {
      "needs_background": "light"
     },
     "output_type": "display_data"
    }
   ],
   "source": [
    "# Изобразим исходные данные в виже графика\n",
    "Y = df_clear.sort_values('xi')['xi']\n",
    "X = df.index.tolist()\n",
    "plt.plot(X,Y)"
   ]
  },
  {
   "cell_type": "code",
   "execution_count": 47,
   "metadata": {},
   "outputs": [],
   "source": [
    "# преположим что у нас нормальное распределение\n",
    "# H0 - выборка не подчинена нормальному распределению\n",
    "# H1 - выборка не подчинена нормальному распределию"
   ]
  },
  {
   "cell_type": "code",
   "execution_count": null,
   "metadata": {},
   "outputs": [],
   "source": [
    "# Сводный df\n",
    "\n",
    "df5 = pd.DataFrame()\n",
    "\n",
    "# cчитаем границы интервало\n",
    "interval_left = [] \n",
    "interval_right = [] \n",
    "\n",
    "dx = raz/10\n",
    "count_right = min(df_clear['xi']) \n",
    "count_left = min(df_clear['xi'])\n",
    "start = min(df_clear['xi'])\n",
    "\n",
    "for i in range(10) :\n",
    "    count_left = start + dx*i\n",
    "    count_right = start + dx*(i+1)\n",
    "    interval_left.append(float(count_left))\n",
    "    interval_right.append(float(count_right))\n",
    "    \n",
    "df5['interval_left'] = interval_left\n",
    "df5['interval_right'] = interval_right\n",
    "df5.head(100)\n",
    "\n",
    "# посчитаем кол-во вхождений\n",
    "count_number = []\n",
    "lendf5 = len(df5['interval_left'])\n",
    "for i in range(lendf5) :   \n",
    "    num = len(df_clear[(df_clear['xi'] >= df5['interval_left'][i]) & (df_clear['xi'] < df5['interval_right'][i])])\n",
    "    if i == lendf5-1 :\n",
    "        num = len(df_clear[(df_clear['xi'] >= df5['interval_left'][i]) & (df_clear['xi'] <= df5['interval_right'][i])])\n",
    "    count_number.append(num)\n",
    "\n",
    "df5['count'] = count_number   \n",
    "\n",
    "print(df5['count'].sum(), len(df_clear['xi']))\n",
    "df_clear.sort_values('xi').head(100)\n",
    "df5.head(20)\n",
    "\n",
    "# относительные частоты\n",
    "\n",
    "df5['wi'] = df5['count']/df5['count'].sum()"
   ]
  },
  {
   "cell_type": "code",
   "execution_count": 268,
   "metadata": {},
   "outputs": [
    {
     "data": {
      "image/png": "[encoded data removed]",
      "text/plain": [
       "<Figure size 432x288 with 1 Axes>"
      ]
     },
     "metadata": {
      "needs_background": "light"
     },
     "output_type": "display_data"
    }
   ],
   "source": [
    "\n",
    "# посчитаем середину интервала\n",
    "\n",
    "count = len(df5['interval_left'])\n",
    "\n",
    "midle_list = []\n",
    "for i in range(count) :\n",
    "    midle = (df5['interval_left'][i] + df5['interval_right'][i])/2\n",
    "    midle_list.append(round(midle,3))\n",
    "    \n",
    "df5['midle_interval'] = midle_list\n",
    "\n",
    "df5.head(20)\n",
    "\n",
    "# построим нормальное распредление с нашими параметрами\n",
    "left = round(min(df5['interval_left']),3)\n",
    "right = round(max(df5['interval_right']),3)\n",
    "\n",
    "x = np.linspace(left,right,200)\n",
    "# mu = M\n",
    "# sigma = SKO\n",
    "sigma = df_clear['xi'].std()\n",
    "mu = df_clear['xi'].mean()\n",
    "\n",
    "y = scipy.stats.norm.pdf(x, mu, sigma)\n",
    "plt.plot(x,y)\n",
    "# print(sum(norm_funct))\n",
    "df5.head(20)\n",
    "\n",
    "# узнаем значенеи функции в середине интервала\n",
    "\n",
    "value_norm_func = []\n",
    "for i in range(count) :\n",
    "    \n",
    "    midle_interval = df5['midle_interval'][i]\n",
    "    \n",
    "    x = midle_interval\n",
    "#     mu = M\n",
    "#     sigma = SKO\n",
    "    \n",
    "    sigma = df_clear['xi'].std()\n",
    "    mu = df_clear['xi'].mean()\n",
    "    \n",
    "    y = scipy.stats.norm.pdf(x, mu, sigma)\n",
    "    \n",
    "    value_norm_func.append(y)\n",
    "    \n",
    "df5['value_norm_func'] = value_norm_func\n",
    "\n",
    "df5.head(20)\n",
    "\n",
    "# хочу добавить еще F(x) а не f(x)\n",
    "value_norm_func_cdf = []\n",
    "\n",
    "for i in range(count) :\n",
    "    \n",
    "    midle_interval = df5['midle_interval'][i]\n",
    "    \n",
    "    x = midle_interval\n",
    "    mu = M\n",
    "    sigma = SKO\n",
    "    y = scipy.stats.norm.cdf(x, mu, sigma)\n",
    "    \n",
    "    value_norm_func_cdf.append(round(y,3))\n",
    "    \n",
    "df5['cdf'] = value_norm_func_cdf\n",
    "df5.to_excel(\"Task_2_для_гист.xlsx\") "
   ]
  },
  {
   "cell_type": "code",
   "execution_count": null,
   "metadata": {},
   "outputs": [],
   "source": [
    "# правильно наложенные графикик\n",
    "\n",
    "\n",
    "x = np.linspace(df_clear['xi'].min()-1,df_clear['xi'].max()+1,100)\n",
    "sigma = df_clear['xi'].std()\n",
    "mu = df_clear['xi'].mean()\n",
    "\n",
    "y = scipy.stats.norm(mu, sigma).pdf(x) \n",
    "plt.plot(x,y)   \n",
    "df_clear['xi'].hist(bins=8, density=1)"
   ]
  },
  {
   "cell_type": "code",
   "execution_count": 255,
   "metadata": {},
   "outputs": [
    {
     "data": {
      "text/plain": [
       "<matplotlib.axes._subplots.AxesSubplot at 0x15fd7a25550>"
      ]
     },
     "execution_count": 255,
     "metadata": {},
     "output_type": "execute_result"
    },
    {
     "data": {
      "image/png": "[encoded data removed]",
      "text/plain": [
       "<Figure size 432x288 with 1 Axes>"
      ]
     },
     "metadata": {
      "needs_background": "light"
     },
     "output_type": "display_data"
    }
   ],
   "source": [
    "df_clear['xi'].hist(bins=10)"
   ]
  },
  {
   "cell_type": "code",
   "execution_count": 256,
   "metadata": {},
   "outputs": [],
   "source": [
    "# left = round(min(df5['interval_left']),3)\n",
    "# right = round(max(df5['interval_right']),3)\n",
    "\n",
    "# x = np.linspace(right, right,1)\n",
    "# mu = M\n",
    "# sigma = SKO\n",
    "# y = scipy.stats.norm.pdf(x, mu, sigma)\n",
    "\n",
    "# print(y)"
   ]
  },
  {
   "cell_type": "code",
   "execution_count": 267,
   "metadata": {},
   "outputs": [
    {
     "name": "stdout",
     "output_type": "stream",
     "text": [
      "0.645\n"
     ]
    }
   ],
   "source": [
    "# добавиил накопленые частоты\n",
    "\n",
    "lenf = len(df5['wi'])\n",
    "\n",
    "count = 0\n",
    "save_frequency = []\n",
    "wi = df5['count'].tolist()\n",
    "for i in range(lenf) :\n",
    "    count = count + wi[i] \n",
    "    save_frequency.append(round(count,3))\n",
    "# print(save_frequency)\n",
    "df5['Накоп_част'] = save_frequency\n",
    "# df5.head(20)\n",
    "\n",
    "# добавим относительные накопленые частоты\n",
    "V = df5['count'].sum()\n",
    "df5['Накоп_част/n'] = df5['Накоп_част']/V\n",
    "\n",
    "# умножили объем выьорки  на cdf\n",
    "df5['npi'] = df5['cdf']*df5['count'].sum()\n",
    "# df5.head(20)\n",
    "\n",
    "# выпишем слогаемы для хи квадрат\n",
    "df5['Хи'] = ((df5['Накоп_част'] - df5['npi'])**2)/df5['npi']\n",
    "\n",
    "# наше значение хи квадрат\n",
    "Hi2 = df5['Хи'].sum()\n",
    "print(round(Hi2,3))\n",
    "df5.head(20)\n",
    "# округлили\n",
    "df5 = df5.round({'interval_left':3,'interval_right':3,'value_norm_func':3,'Хи':3})\n",
    "\n",
    "df5.to_excel(\"Task_2_для_идент.xlsx\") "
   ]
  },
  {
   "cell_type": "code",
   "execution_count": 262,
   "metadata": {},
   "outputs": [],
   "source": [
    "# исходные данные\n",
    "number_free = 8-2-1 # число степений свободы\n",
    "alpha = 0.05 # уровень значимости\n",
    "phi2_crit = 11.1 # уровень значимости "
   ]
  },
  {
   "cell_type": "markdown",
   "metadata": {},
   "source": [
    "Вывод: полученное значение Хи2 = 0.639, а критическое значение 11.1.\n",
    "Гипотеза о что распределение является нормальным верна."
   ]
  },
  {
   "cell_type": "code",
   "execution_count": 259,
   "metadata": {},
   "outputs": [
    {
     "data": {
      "text/plain": [
       "0.042"
      ]
     },
     "execution_count": 259,
     "metadata": {},
     "output_type": "execute_result"
    }
   ],
   "source": [
    "# тоже самое для критерия калмагорова\n",
    "# Вычтем 2 столбца\n",
    "list_freq = (df5['Накоп_част/n'] - df5['cdf']).tolist()\n",
    "list_freq = [round(abs(x),3) for x in list_freq]\n",
    "max(list_freq)"
   ]
  },
  {
   "cell_type": "code",
   "execution_count": 260,
   "metadata": {},
   "outputs": [
    {
     "name": "stdout",
     "output_type": "stream",
     "text": [
      "Итоговый интервал принятия гипотезы (0, 0.25432902849193256)\n"
     ]
    }
   ],
   "source": [
    "# уровень значимости \n",
    "# Область принятия гипотезы\n",
    "alpha = 0.05\n",
    "\n",
    "K1_alpha = np.sqrt(-0.5*np.log2(alpha))\n",
    "count_f = df5['Накоп_част/n'].sum()\n",
    "print('Итоговый интервал принятия гипотезы (0, {K1_alpha})'.format(K1_alpha = K1_alpha*1/count_f))"
   ]
  },
  {
   "cell_type": "markdown",
   "metadata": {},
   "source": [
    "Вывод: Значение 0.042 попадаеют в интервал принятия гипотезы, значит гипотеза что распределенеи является нормальным верная."
   ]
  },
  {
   "cell_type": "markdown",
   "metadata": {},
   "source": [
    "# *******Второй расчет*******###"
   ]
  },
  {
   "cell_type": "code",
   "execution_count": 198,
   "metadata": {},
   "outputs": [],
   "source": [
    "def MainParameter(df_clear) :\n",
    "\n",
    "    # мат ожидание\n",
    "    M = np.var(df_clear['xi'])\n",
    "    # С.К.О., \n",
    "    SKO = statistics.stdev(df_clear['xi'])\n",
    "    # размах, \n",
    "    raz = np.ptp(df_clear['xi'])\n",
    "\n",
    "\n",
    "    df_clear = pd.DataFrame()\n",
    "    df = pd.read_excel('Варианты заданий по темам 2-3.xlsx')\n",
    "    df_clear['xi'] = df['Вариант 1'].copy()\n",
    "\n",
    "    # Сводный df\n",
    "    df5 = pd.DataFrame()\n",
    "\n",
    "    # 1 - cчитаем границы интервало\n",
    "    interval_left = [] \n",
    "    interval_right = [] \n",
    "\n",
    "    dx = raz/10\n",
    "    count_right = min(df_clear['xi']) \n",
    "    count_left = min(df_clear['xi'])\n",
    "    start = min(df_clear['xi'])\n",
    "\n",
    "    for i in range(10) :\n",
    "        count_left = start + dx*i\n",
    "        count_right = start + dx*(i+1)\n",
    "        interval_left.append(round(float(count_left),3))\n",
    "        interval_right.append(round(float(count_right),3))\n",
    "\n",
    "    df5['interval_left'] = interval_left\n",
    "    df5['interval_right'] = interval_right\n",
    "\n",
    "    # 2 - посчитаем кол-во вхождений\n",
    "    count_number = []\n",
    "    lendf5 = len(df5['interval_left'])\n",
    "    for i in range(lendf5) :   \n",
    "        num = len(df_clear[(df_clear['xi'] >= df5['interval_left'][i]) & (df_clear['xi'] < df5['interval_right'][i])])\n",
    "        if i == lendf5-1 :\n",
    "            num = len(df_clear[(df_clear['xi'] >= df5['interval_left'][i]) & (df_clear['xi'] <= df5['interval_right'][i])])\n",
    "        count_number.append(round(num,3))\n",
    "    df5['count'] = count_number   \n",
    "\n",
    "    # 3 - относительные частоты\n",
    "    df5['wi'] = df5['count']/df5['count'].sum()\n",
    "    df5 = df5.round({'wi':3})\n",
    "    \n",
    "    # 4 - посчитаем середину интервала\n",
    "    count = len(df5['interval_left'])\n",
    "    midle_list = []\n",
    "    for i in range(count) :\n",
    "        midle = (df5['interval_left'][i] + df5['interval_right'][i])/2\n",
    "        midle_list.append(round(midle,3))    \n",
    "    df5['midle_interval'] = midle_list\n",
    "\n",
    "    # 7 - добавиил накопленые частоты\n",
    "    lenf = len(df5['wi'])\n",
    "\n",
    "    count = 0\n",
    "    save_frequency = []\n",
    "    wi = df5['count'].tolist()\n",
    "    for i in range(lenf) :\n",
    "        count = count + wi[i] \n",
    "        save_frequency.append(round(count,3))\n",
    "    df5['Накоп_част'] = save_frequency\n",
    "\n",
    "    # 8 - добавим относительные накопленые частоты\n",
    "    V = df5['count'].sum()\n",
    "    df5['Накоп_част/n'] = df5['Накоп_част']/V\n",
    "    df5 = df5.round({'Накоп_част/n':3})\n",
    "    return df5\n"
   ]
  },
  {
   "cell_type": "code",
   "execution_count": 206,
   "metadata": {},
   "outputs": [
    {
     "data": {
      "text/html": [
       "<div>\n",
       "<style scoped>\n",
       "    .dataframe tbody tr th:only-of-type {\n",
       "        vertical-align: middle;\n",
       "    }\n",
       "\n",
       "    .dataframe tbody tr th {\n",
       "        vertical-align: top;\n",
       "    }\n",
       "\n",
       "    .dataframe thead th {\n",
       "        text-align: right;\n",
       "    }\n",
       "</style>\n",
       "<table border=\"1\" class=\"dataframe\">\n",
       "  <thead>\n",
       "    <tr style=\"text-align: right;\">\n",
       "      <th></th>\n",
       "      <th>interval_left</th>\n",
       "      <th>interval_right</th>\n",
       "      <th>count</th>\n",
       "      <th>wi</th>\n",
       "      <th>midle_interval</th>\n",
       "      <th>Накоп_част</th>\n",
       "      <th>Накоп_част/n</th>\n",
       "    </tr>\n",
       "  </thead>\n",
       "  <tbody>\n",
       "    <tr>\n",
       "      <th>0</th>\n",
       "      <td>-0.310</td>\n",
       "      <td>0.779</td>\n",
       "      <td>2</td>\n",
       "      <td>0.020</td>\n",
       "      <td>0.234</td>\n",
       "      <td>2</td>\n",
       "      <td>0.020</td>\n",
       "    </tr>\n",
       "    <tr>\n",
       "      <th>1</th>\n",
       "      <td>0.779</td>\n",
       "      <td>1.867</td>\n",
       "      <td>6</td>\n",
       "      <td>0.061</td>\n",
       "      <td>1.323</td>\n",
       "      <td>8</td>\n",
       "      <td>0.081</td>\n",
       "    </tr>\n",
       "    <tr>\n",
       "      <th>2</th>\n",
       "      <td>1.867</td>\n",
       "      <td>2.956</td>\n",
       "      <td>9</td>\n",
       "      <td>0.091</td>\n",
       "      <td>2.412</td>\n",
       "      <td>17</td>\n",
       "      <td>0.172</td>\n",
       "    </tr>\n",
       "    <tr>\n",
       "      <th>3</th>\n",
       "      <td>2.956</td>\n",
       "      <td>4.044</td>\n",
       "      <td>17</td>\n",
       "      <td>0.172</td>\n",
       "      <td>3.500</td>\n",
       "      <td>34</td>\n",
       "      <td>0.343</td>\n",
       "    </tr>\n",
       "    <tr>\n",
       "      <th>4</th>\n",
       "      <td>4.044</td>\n",
       "      <td>5.133</td>\n",
       "      <td>21</td>\n",
       "      <td>0.212</td>\n",
       "      <td>4.588</td>\n",
       "      <td>55</td>\n",
       "      <td>0.556</td>\n",
       "    </tr>\n",
       "  </tbody>\n",
       "</table>\n",
       "</div>"
      ],
      "text/plain": [
       "   interval_left  interval_right  count     wi  midle_interval  Накоп_част  \\\n",
       "0         -0.310           0.779      2  0.020           0.234           2   \n",
       "1          0.779           1.867      6  0.061           1.323           8   \n",
       "2          1.867           2.956      9  0.091           2.412          17   \n",
       "3          2.956           4.044     17  0.172           3.500          34   \n",
       "4          4.044           5.133     21  0.212           4.588          55   \n",
       "\n",
       "   Накоп_част/n  \n",
       "0         0.020  \n",
       "1         0.081  \n",
       "2         0.172  \n",
       "3         0.343  \n",
       "4         0.556  "
      ]
     },
     "execution_count": 206,
     "metadata": {},
     "output_type": "execute_result"
    }
   ],
   "source": [
    "# создадим новый ДФ и основыне поля заполним через функцию\n",
    "\n",
    "a = pd.DataFrame()\n",
    "a = MainParameter(df_clear)\n",
    "a = a.round({'wi':3})\n",
    "a.head()"
   ]
  },
  {
   "cell_type": "code",
   "execution_count": 239,
   "metadata": {},
   "outputs": [
    {
     "name": "stdout",
     "output_type": "stream",
     "text": [
      "39.897\n"
     ]
    }
   ],
   "source": [
    "# создали новый ДФ через функцию\n",
    "a = pd.DataFrame()\n",
    "a = MainParameter(df_clear)\n",
    "a.head()\n",
    "\n",
    "#5 - узнаем значенеи функции в середине интервала\n",
    "value_norm_func = []\n",
    "for i in range(a.shape[0]) :\n",
    "\n",
    "    midle_interval = a['midle_interval'][i]\n",
    "\n",
    "    x = midle_interval\n",
    "    A_param = df_clear['xi'].min()\n",
    "    B_param = df_clear['xi'].max()\n",
    "#     y = scipy.stats.uniform.cdf(x, A_param, B_param)\n",
    "\n",
    "    loc = A_param\n",
    "    scale = B_param - A_param\n",
    "    y = scipy.stats.uniform(loc, scale).cdf(x)\n",
    "    \n",
    "    value_norm_func.append(round(y,3))\n",
    "    \n",
    "    \n",
    "a['pdf'] = value_norm_func\n",
    "\n",
    "#6 - хочу добавить еще F(x) а не f(x)\n",
    "value_norm_func_cdf = []\n",
    "\n",
    "for i in range(a.shape[0]) :\n",
    "\n",
    "    midle_interval = a['midle_interval'][i]\n",
    "\n",
    "    x = midle_interval\n",
    "    A_param = df_clear['xi'].min()\n",
    "    B_param = df_clear['xi'].max()\n",
    "#     y = scipy.stats.uniform.cdf(x, A_param, B_param)\n",
    "    \n",
    "    loc = A_param\n",
    "    scale = B_param - A_param\n",
    "    y = scipy.stats.uniform(loc, scale).cdf(x)\n",
    "    \n",
    "    value_norm_func_cdf.append(round(y,3))\n",
    "\n",
    "a['cdf'] = value_norm_func_cdf\n",
    "\n",
    "# 9 - умножили объем выьорки  на cdf\n",
    "a['npi'] = a['cdf']*a['count'].sum()\n",
    "\n",
    "# 10 - выпишем слогаемы для хи квадрат\n",
    "a['Хи'] = ((a['Накоп_част'] - a['npi'])**2)/a['npi']\n",
    "a =  a.round({'Хи':3})\n",
    "\n",
    "# 11 - расчетное значение хи квадрат\n",
    "Hi2 = a['Хи'].sum()\n",
    "print(round(Hi2,3))\n",
    "a.head(10)\n",
    "\n",
    "# a.to_excel(\"Task_2_второй_расчет.xlsx\")"
   ]
  },
  {
   "cell_type": "markdown",
   "metadata": {},
   "source": [
    "Число степеней свободы также будет 5\n",
    "Уровень значимости alpha = 0.05\n",
    "Тогда критическое значение Хи = 11.1"
   ]
  },
  {
   "cell_type": "code",
   "execution_count": 269,
   "metadata": {},
   "outputs": [
    {
     "ename": "SyntaxError",
     "evalue": "invalid syntax (<ipython-input-269-967832d4705c>, line 1)",
     "output_type": "error",
     "traceback": [
      "\u001b[1;36m  File \u001b[1;32m\"<ipython-input-269-967832d4705c>\"\u001b[1;36m, line \u001b[1;32m1\u001b[0m\n\u001b[1;33m    Вывод: полученное значение Хи2 =39.897, а критическое значение 11.1. Гипотеза о что распределение является нормальным верна.\u001b[0m\n\u001b[1;37m                      ^\u001b[0m\n\u001b[1;31mSyntaxError\u001b[0m\u001b[1;31m:\u001b[0m invalid syntax\n"
     ]
    }
   ],
   "source": [
    "Вывод: полученное значение Хи2 =39.897, а критическое значение 11.1. Гипотеза о что распределение является нормальным верна.\n",
    "\n"
   ]
  },
  {
   "cell_type": "code",
   "execution_count": 238,
   "metadata": {},
   "outputs": [
    {
     "name": "stdout",
     "output_type": "stream",
     "text": [
      "-0.3097028285264969 10.575129762291908\n"
     ]
    },
    {
     "data": {
      "image/png": "[encoded data removed]",
      "text/plain": [
       "<Figure size 432x288 with 1 Axes>"
      ]
     },
     "metadata": {
      "needs_background": "light"
     },
     "output_type": "display_data"
    }
   ],
   "source": [
    "# нарисуем наши распределения\n",
    "\n",
    "N = 200\n",
    "\n",
    "A_param = df_clear['xi'].min()\n",
    "B_param = df_clear['xi'].max()\n",
    "\n",
    "grid = np.linspace(A_param-1,B_param+1,N)\n",
    "loc = A_param\n",
    "scale = B_param - A_param\n",
    "y2 = scipy.stats.uniform(loc, scale).pdf(grid)  \n",
    "plt.plot(grid,y2)\n",
    "plt.hist(df_clear['xi'], density=1, range=[A_param, B_param])\n",
    "\n",
    "# y3 = np.linspace(0,0.2,len(x2) )\n",
    "# x3 = [B_param]*len(x2) \n",
    "# plt.plot(x3,y3)\n",
    "print(A_param, B_param)"
   ]
  },
  {
   "cell_type": "code",
   "execution_count": 237,
   "metadata": {},
   "outputs": [
    {
     "name": "stdout",
     "output_type": "stream",
     "text": [
      "Расчетное значение критерия 0.279\n",
      "Итоговый интервал принятия гипотезы (0, 0.25432902849193256)\n"
     ]
    }
   ],
   "source": [
    "# тоже самое для критерия калмагорова\n",
    "# Вычтем 2 столбца\n",
    "list_freq = (a['Накоп_част/n'] - a['cdf']).tolist()\n",
    "list_freq = [round(abs(x),3) for x in list_freq]\n",
    "print('Расчетное значение критерия',max(list_freq))\n",
    "\n",
    "# уровень значимости \n",
    "# Область принятия гипотезы\n",
    "alpha = 0.05\n",
    "\n",
    "K1_alpha = np.sqrt(-0.5*np.log2(alpha))\n",
    "count_f = df5['Накоп_част/n'].sum()\n",
    "print('Итоговый интервал принятия гипотезы (0, {K1_alpha})'.format(K1_alpha = K1_alpha*1/count_f))"
   ]
  }
 ],
 "metadata": {
  "kernelspec": {
   "display_name": "Python 3",
   "language": "python",
   "name": "python3"
  },
  "language_info": {
   "codemirror_mode": {
    "name": "ipython",
    "version": 3
   },
   "file_extension": ".py",
   "mimetype": "text/x-python",
   "name": "python",
   "nbconvert_exporter": "python",
   "pygments_lexer": "ipython3",
   "version": "3.8.3"
  }
 },
 "nbformat": 4,
 "nbformat_minor": 4
}
